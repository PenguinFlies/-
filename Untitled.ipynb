{
 "cells": [
  {
   "cell_type": "code",
   "execution_count": 38,
   "metadata": {
    "collapsed": false
   },
   "outputs": [
    {
     "data": {
      "text/plain": [
       "-1"
      ]
     },
     "execution_count": 38,
     "metadata": {},
     "output_type": "execute_result"
    }
   ],
   "source": [
    "import cv2\n",
    "import numpy as np\n",
    "\n",
    "def vis_convert (img,mask):\n",
    "    \"\"\"\n",
    "    vis_convert : use IMPAINT_TELEA from Alexandru Telea to clean white line\n",
    "    \n",
    "    Parameters\n",
    "    ----------\n",
    "    img : vis jpg file\n",
    "    mask : gray,same size as img\n",
    "    \n",
    "    return\n",
    "    ----------\n",
    "    img : jpg file\n",
    "    \n",
    "    \"\"\"\n",
    "    img = cv2.inpaint(img,mask,3,cv2.INPAINT_TELEA)\n",
    "    \n",
    "    return img\n",
    "\n",
    "def create_mask (img):\n",
    "    \"\"\"\n",
    "    create_mask : create mask form img\n",
    "    \n",
    "    \"\"\"\n",
    "    mask = img.copy()\n",
    "    i = 0\n",
    "    j = 0\n",
    "    while i<800:\n",
    "        j = 0\n",
    "        while j<800:\n",
    "            if(int(mask[i,j,0])+int(mask[i,j,1])+int(mask[i,j,2]))<700:\n",
    "                mask[i,j,0]=0\n",
    "                mask[i,j,1]=0\n",
    "                mask[i,j,2]=0\n",
    "            j+=1\n",
    "        i+=1\n",
    "    mask = cv2.cvtColor(mask, cv2.COLOR_BGR2GRAY)   \n",
    "    return mask\n",
    "\n",
    "\"\"\"\n",
    "how to use ?\n",
    "1. read image\n",
    "img = cv2.imread('test.jpg')\n",
    "\n",
    "2. create mask\n",
    "mask = create_mask(img)\n",
    "\n",
    "3. clean white line\n",
    "img = vis_convert(img,mask)\n",
    "\n",
    "4. done!!\n",
    "\"\"\"\n",
    "\n",
    "img = cv2.imread('test.jpg')\n",
    "mask = create_mask(img)\n",
    "img = vis_convert(img,mask)\n",
    "\n",
    "cv2.namedWindow(\"Image\")\n",
    "cv2.imshow(\"Image\",img)  \n",
    "cv2.waitKey (0)\n"
   ]
  },
  {
   "cell_type": "code",
   "execution_count": null,
   "metadata": {
    "collapsed": true
   },
   "outputs": [],
   "source": []
  }
 ],
 "metadata": {
  "kernelspec": {
   "display_name": "Python 3",
   "language": "python",
   "name": "python3"
  },
  "language_info": {
   "codemirror_mode": {
    "name": "ipython",
    "version": 3
   },
   "file_extension": ".py",
   "mimetype": "text/x-python",
   "name": "python",
   "nbconvert_exporter": "python",
   "pygments_lexer": "ipython3",
   "version": "3.5.3"
  }
 },
 "nbformat": 4,
 "nbformat_minor": 2
}
